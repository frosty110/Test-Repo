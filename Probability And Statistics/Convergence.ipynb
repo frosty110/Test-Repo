{
 "cells": [
  {
   "cell_type": "heading",
   "metadata": {
    "collapsed": true
   },
   "level": 1,
   "source": [
    "Convergence/Divergence of a Series"
   ]
  },
  {
   "cell_type": "heading",
   "metadata": {},
   "level": 1,
   "source": [
    "Convergence of Random Variables"
   ]
  },
  {
   "cell_type": "markdown",
   "metadata": {},
   "source": [
    "The convergence of sequences of random variables to some limit variable is an important concept in probability theory. The formal idea is that a sequence of random or unpredictable events can sometimes be expected to settle down into a patterns as the sequences are studied. The different notions of convergence relate to how such behaviors are characterised."
   ]
  },
  {
   "cell_type": "markdown",
   "metadata": {},
   "source": [
    "Patterns of convergence:\n",
    "* Convergence to a fixed value, perhaps coming from a random event\n",
    "* An Increase of outcomes to what a purely deterministic function would produce\n",
    "* An increasing preference towards a certain outcome\n",
    "* An increasing aversion against staying away from a certain outcome\n",
    "* The probability distribution describing the next outcome may grow increasingly similar to a certain distribution"
   ]
  },
  {
   "cell_type": "markdown",
   "metadata": {},
   "source": [
    "If $n$ independent random variables $Y_i$ all have the same finite mean and variance given by $X_n=\\frac{1}{n}\\sum_{i=1}^nY_i$ then as $n\\rightarrow\\infinity$, then $X_n$ converges in $P()$ to the mean of the random variable $Y_i$."
   ]
  },
  {
   "cell_type": "markdown",
   "metadata": {},
   "source": [
    "This is the weak law of large numbers that shows that the sample average converges in probability towards the expected value. In other words, as our sample size approaches infinity, our mean converges to the population mean."
   ]
  },
  {
   "cell_type": "markdown",
   "metadata": {},
   "source": [
    "$$\\lim_{x\\to\\infty}P(|X_n-\\mu|)< \\epsilon) = 1$$"
   ]
  },
  {
   "cell_type": "markdown",
   "metadata": {},
   "source": [
    "The strong law of large numbers states that the sample average converges almost surely to the expected value."
   ]
  },
  {
   "cell_type": "markdown",
   "metadata": {},
   "source": [
    "Y⎯⎯⎯⎯n −→P μ when  n→∞, i.e. ∀ε>0:limn→∞Pr(|"
   ]
  },
  {
   "cell_type": "markdown",
   "metadata": {},
   "source": [
    "<center>$P(\\lim_{n\\rightarrow \\infty } ||\\bar{X}_n - \\mu|| < \\epsilon )=1$ </center>"
   ]
  },
  {
   "cell_type": "markdown",
   "metadata": {},
   "source": [
    "From calculus, the convergence notation is described as:"
   ]
  },
  {
   "cell_type": "markdown",
   "metadata": {},
   "source": [
    "$$x_n \\rightarrow x_0$$"
   ]
  },
  {
   "cell_type": "markdown",
   "metadata": {},
   "source": [
    "For an $\\epsilon > 0$ we can say"
   ]
  },
  {
   "cell_type": "markdown",
   "metadata": {},
   "source": [
    "$$x_n - x_0|<\\epsilon $$"
   ]
  },
  {
   "cell_type": "code",
   "execution_count": null,
   "metadata": {},
   "outputs": [],
   "source": []
  }
 ],
 "metadata": {
  "kernelspec": {
   "display_name": "Python 2",
   "language": "python",
   "name": "python2"
  },
  "language_info": {
   "codemirror_mode": {
    "name": "ipython",
    "version": 2
   },
   "file_extension": ".py",
   "mimetype": "text/x-python",
   "name": "python",
   "nbconvert_exporter": "python",
   "pygments_lexer": "ipython2",
   "version": "2.7.6"
  }
 },
 "nbformat": 4,
 "nbformat_minor": 0
}
